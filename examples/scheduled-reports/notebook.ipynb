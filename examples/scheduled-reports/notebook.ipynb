# Scheduled Reports Example - Business Dashboard

**Execution:** `uvx --with "flowerpower[rq],pandas>=2.0.0,plotly>=5.15.0,matplotlib,seaborn" jupyter lab`

This notebook demonstrates FlowerPower for automated business reporting and dashboard generation.

## Quick Start

Generate a business dashboard immediately:
```python
import sys
import os
from pathlib import Path
import pandas as pd
import matplotlib.pyplot as plt
import seaborn as sns
import plotly.graph_objects as go
import plotly.express as px
from datetime import datetime, timedelta
from IPython.display import HTML, display

# Add FlowerPower source to path
sys.path.insert(0, str(Path().absolute().parents[2] / "src"))

from flowerpower.flowerpower import FlowerPowerProject

# Initialize project
project = FlowerPowerProject.from_config(".")

print("📊 FlowerPower Business Dashboard")
print("==================================")
print(f"📁 Project: {project.project_cfg.name}")
print(f"🎯 Pipeline: business_dashboard")
print(f"📅 Report date: {datetime.now().strftime('%Y-%m-%d')}")

# Quick dashboard generation
result = project.pipeline_manager.run(
    "business_dashboard",
    inputs={"current_date": datetime.now().strftime("%Y-%m-%d")},
    final_vars=["business_dashboard"]
)

print("✅ Business dashboard generated successfully!")
if "business_dashboard" in result:
    dashboard = result["business_dashboard"]
    print(f"📄 Report saved to: {dashboard['report_path']}")
    print(f"📊 KPIs calculated: {len(dashboard['kpis'])} metrics")
    print(f"🚨 Alerts generated: {len(dashboard['alerts'])} alerts")
    print(f"📈 Charts included: {dashboard['charts_included']}")
```

## 1. Business Data Overview

Explore the business data that feeds our reporting pipeline:
```python
# Load and explore business data
data_files = {
    "sales": "data/sales_data.csv",
    "inventory": "data/inventory_data.csv", 
    "customers": "data/customer_data.csv"
}

business_data = {}

print("📈 Business Data Overview")
print("==========================")

for data_type, file_path in data_files.items():
    if Path(file_path).exists():
        df = pd.read_csv(file_path)
        business_data[data_type] = df
        print(f"\n📊 {data_type.title()} Data:")
        print(f"   • Records: {len(df):,}")
        print(f"   • Columns: {list(df.columns)}")
        print(f"   • Date range: {df.get('date', df.get('created_at', 'N/A')).min() if len(df) > 0 else 'N/A'} to {df.get('date', df.get('created_at', 'N/A')).max() if len(df) > 0 else 'N/A'}")
        
        # Show sample data
        print(f"\n🔍 Sample {data_type.title()} Data:")
        display(df.head(3))
    else:
        print(f"\n⚠️ {data_type.title()} data not found: {file_path}")
        print("💡 The pipeline will generate synthetic data during execution")

if business_data:
    # Create quick visualizations
    fig, axes = plt.subplots(2, 2, figsize=(15, 10))
    
    # Sales trend (if sales data exists)
    if 'sales' in business_data and 'amount' in business_data['sales'].columns:
        sales_df = business_data['sales']
        if 'date' in sales_df.columns:
            sales_df['date'] = pd.to_datetime(sales_df['date'])
            daily_sales = sales_df.groupby('date')['amount'].sum()
            axes[0, 0].plot(daily_sales.index, daily_sales.values)
            axes[0, 0].set_title('Daily Sales Trend')
            axes[0, 0].set_xlabel('Date')
            axes[0, 0].set_ylabel('Sales Amount')
        else:
            sales_df['amount'].hist(bins=20, ax=axes[0, 0])
            axes[0, 0].set_title('Sales Amount Distribution')
    else:
        axes[0, 0].text(0.5, 0.5, 'Sales Data\nNot Available', ha='center', va='center')
        axes[0, 0].set_title('Sales Analysis')
    
    # Inventory levels (if inventory data exists)
    if 'inventory' in business_data and 'quantity' in business_data['inventory'].columns:
        inv_df = business_data['inventory']
        inv_df['quantity'].hist(bins=15, ax=axes[0, 1], color='orange')
        axes[0, 1].set_title('Inventory Quantity Distribution')
        axes[0, 1].set_xlabel('Quantity')
        axes[0, 1].set_ylabel('Frequency')
    else:
        axes[0, 1].text(0.5, 0.5, 'Inventory Data\nNot Available', ha='center', va='center')
        axes[0, 1].set_title('Inventory Analysis')
    
    # Customer segments (if customer data exists)
    if 'customers' in business_data and 'segment' in business_data['customers'].columns:
        cust_df = business_data['customers']
        segment_counts = cust_df['segment'].value_counts()
        axes[1, 0].pie(segment_counts.values, labels=segment_counts.index, autopct='%1.1f%%')
        axes[1, 0].set_title('Customer Segments')
    else:
        axes[1, 0].text(0.5, 0.5, 'Customer Data\nNot Available', ha='center', va='center')
        axes[1, 0].set_title('Customer Analysis')
    
    # Revenue by category (simulated)
    categories = ['Electronics', 'Clothing', 'Home', 'Sports', 'Books']
    revenues = [45000, 32000, 28000, 18000, 12000]
    axes[1, 1].bar(categories, revenues, color='lightblue')
    axes[1, 1].set_title('Revenue by Category')
    axes[1, 1].set_xlabel('Category')
    axes[1, 1].set_ylabel('Revenue ($)')
    axes[1, 1].tick_params(axis='x', rotation=45)
    
    plt.tight_layout()
    plt.show()
else:
    print("\n💡 Run the pipeline to generate sample business data")
```

## 2. Detailed Dashboard Generation

Generate a comprehensive business dashboard with all components:
```python
# Generate detailed dashboard with all components
detailed_result = project.pipeline_manager.run(
    "business_dashboard",
    inputs={
        "current_date": datetime.now().strftime("%Y-%m-%d"),
        "include_charts": True,
        "output_format": "html",
        "alerts_enabled": True
    },
    final_vars=[
        "sales_metrics",
        "inventory_metrics",
        "customer_metrics",
        "business_alerts",
        "business_dashboard"
    ]
)

print("📊 Detailed Dashboard Analysis")
print("==============================")

# Analyze sales metrics
if "sales_metrics" in detailed_result:
    sales = detailed_result["sales_metrics"]
    print(f"\n💰 Sales Metrics:")
    print(f"   • Total revenue: ${sales['total_revenue']:,.2f}")
    print(f"   • Average order value: ${sales['avg_order_value']:.2f}")
    print(f"   • Orders count: {sales['total_orders']:,}")
    print(f"   • Growth rate: {sales['growth_rate']:.1f}%")

# Analyze inventory metrics
if "inventory_metrics" in detailed_result:
    inventory = detailed_result["inventory_metrics"]
    print(f"\n📦 Inventory Metrics:")
    print(f"   • Total items: {inventory['total_items']:,}")
    print(f"   • Low stock alerts: {inventory['low_stock_count']}")
    print(f"   • Inventory value: ${inventory['total_value']:,.2f}")
    print(f"   • Turnover rate: {inventory['turnover_rate']:.2f}")

# Analyze customer metrics
if "customer_metrics" in detailed_result:
    customers = detailed_result["customer_metrics"]
    print(f"\n👥 Customer Metrics:")
    print(f"   • Total customers: {customers['total_customers']:,}")
    print(f"   • New customers: {customers['new_customers']:,}")
    print(f"   • Customer lifetime value: ${customers['avg_clv']:.2f}")
    print(f"   • Retention rate: {customers['retention_rate']:.1f}%")

# Analyze business alerts
if "business_alerts" in detailed_result:
    alerts = detailed_result["business_alerts"]
    print(f"\n🚨 Business Alerts:")
    if alerts['alerts']:
        for alert in alerts['alerts'][:5]:  # Show first 5 alerts
            print(f"   • {alert['severity']}: {alert['message']}")
    else:
        print(f"   • No alerts - all metrics within normal ranges")
    print(f"   • Total alerts: {len(alerts['alerts'])}")

# Dashboard summary
if "business_dashboard" in detailed_result:
    dashboard = detailed_result["business_dashboard"]
    print(f"\n📄 Dashboard Summary:")
    print(f"   • Report file: {dashboard['report_path']}")
    print(f"   • Charts included: {dashboard['charts_included']}")
    print(f"   • KPIs tracked: {len(dashboard['kpis'])}")
    print(f"   • Alert count: {len(dashboard['alerts'])}")
```

## 3. Interactive Dashboard Visualization

Create interactive visualizations using the dashboard data:
```python
# Create interactive dashboard visualizations
print("📈 Interactive Business Dashboard")
print("==================================")

# Extract metrics for visualization
if all(key in detailed_result for key in ['sales_metrics', 'inventory_metrics', 'customer_metrics']):
    sales = detailed_result['sales_metrics']
    inventory = detailed_result['inventory_metrics']
    customers = detailed_result['customer_metrics']
    
    # Create KPI summary cards
    kpi_data = {
        'Metric': ['Total Revenue', 'Total Orders', 'Total Customers', 'Inventory Value'],
        'Value': [sales['total_revenue'], sales['total_orders'], customers['total_customers'], inventory['total_value']],
        'Growth': [sales['growth_rate'], sales.get('order_growth', 5.2), customers.get('customer_growth', 8.1), inventory.get('inventory_growth', 2.3)]
    }
    
    # Interactive KPI dashboard
    fig = go.Figure()
    
    # Add bar chart for values
    fig.add_trace(go.Bar(
        x=kpi_data['Metric'],
        y=kpi_data['Value'],
        name='Current Value',
        text=[f'${v:,.0f}' if 'Revenue' in m or 'Value' in m else f'{v:,.0f}' for m, v in zip(kpi_data['Metric'], kpi_data['Value'])],
        textposition='auto',
        marker_color='lightblue'
    ))
    
    fig.update_layout(
        title='Business KPI Overview',
        xaxis_title='Metrics',
        yaxis_title='Value',
        height=400
    )
    
    fig.show()
    
    # Growth rate visualization
    fig2 = px.bar(
        x=kpi_data['Metric'],
        y=kpi_data['Growth'],
        title='Growth Rates by Metric',
        labels={'y': 'Growth Rate (%)', 'x': 'Metrics'},
        color=kpi_data['Growth'],
        color_continuous_scale='RdYlGn'
    )
    
    fig2.update_layout(height=400)
    fig2.show()
    
    # Time series simulation (monthly data)
    months = pd.date_range(start='2024-01-01', end='2024-12-01', freq='M')
    revenue_trend = [30000 + i*2000 + (i%3)*1500 for i in range(len(months))]
    orders_trend = [150 + i*10 + (i%2)*8 for i in range(len(months))]
    
    fig3 = go.Figure()
    
    fig3.add_trace(go.Scatter(
        x=months,
        y=revenue_trend,
        mode='lines+markers',
        name='Revenue',
        line=dict(color='blue'),
        yaxis='y'
    ))
    
    fig3.add_trace(go.Scatter(
        x=months,
        y=orders_trend,
        mode='lines+markers',
        name='Orders',
        line=dict(color='red'),
        yaxis='y2'
    ))
    
    fig3.update_layout(
        title='Revenue and Orders Trend (2024)',
        xaxis_title='Month',
        yaxis=dict(title='Revenue ($)', side='left'),
        yaxis2=dict(title='Orders', side='right', overlaying='y'),
        height=400
    )
    
    fig3.show()
    
    # Customer segment analysis
    segment_data = {'Premium': 25, 'Standard': 45, 'Basic': 30}
    
    fig4 = px.pie(
        values=list(segment_data.values()),
        names=list(segment_data.keys()),
        title='Customer Segment Distribution'
    )
    
    fig4.update_layout(height=400)
    fig4.show()
    
else:
    print("⚠️ Detailed metrics not available - showing sample visualizations")
    
    # Sample visualization
    sample_metrics = ['Revenue', 'Orders', 'Customers', 'Inventory']
    sample_values = [125000, 450, 1200, 85000]
    
    fig = px.bar(x=sample_metrics, y=sample_values, title='Sample Business Metrics')
    fig.show()
```

## 4. Scheduled Reporting Configuration

Set up automated report generation with different schedules:
```python
# Demonstrate scheduling functionality
print("📅 Scheduled Reporting Setup")
print("=============================")

# Define different reporting schedules
schedules = [
    {
        "name": "Daily Morning Report",
        "cron": "0 8 * * *",  # Every day at 8 AM
        "description": "Daily business overview",
        "config": {
            "report_frequency": "daily",
            "include_charts": True,
            "alerts_enabled": True
        }
    },
    {
        "name": "Weekly Executive Summary",
        "cron": "0 9 * * 1",  # Every Monday at 9 AM
        "description": "Weekly performance summary for executives",
        "config": {
            "report_frequency": "weekly",
            "include_charts": True,
            "output_format": "pdf",
            "executive_summary": True
        }
    },
    {
        "name": "Monthly Comprehensive Report",
        "cron": "0 9 1 * *",  # 1st of every month at 9 AM
        "description": "Comprehensive monthly business analysis",
        "config": {
            "report_frequency": "monthly",
            "include_charts": True,
            "detailed_analysis": True,
            "trend_analysis": True
        }
    }
]

scheduled_jobs = []

for schedule in schedules:
    print(f"\n📋 {schedule['name']}")
    print(f"   ⏰ Schedule: {schedule['description']}")
    print(f"   🔧 Cron: {schedule['cron']}")
    
    try:
        # Schedule the report generation job
        job = project.pipeline_manager.schedule(
            "business_dashboard",
            cron=schedule['cron'],
            inputs={
                "current_date": datetime.now().strftime("%Y-%m-%d"),
                **schedule['config']
            },
            final_vars=["business_dashboard"],
            queue_name="reports",
            job_id=f"report_{schedule['name'].lower().replace(' ', '_')}"
        )
        
        scheduled_jobs.append((schedule['name'], job))
        print(f"   ✅ Scheduled successfully - Job ID: {job.id}")
        
    except Exception as e:
        print(f"   ❌ Scheduling failed: {e}")
        print("   💡 Requires Redis for job scheduling")

if scheduled_jobs:
    print(f"\n🎉 Successfully scheduled {len(scheduled_jobs)} report jobs!")
    print("\n🚀 To process scheduled jobs, start a worker with scheduler:")
    print("   flowerpower job-queue start-worker --with-scheduler")
    
    # Create schedule visualization
    schedule_df = pd.DataFrame([
        {"Report": s["name"], "Frequency": s["description"], "Cron": s["cron"]}
        for s in schedules
    ])
    
    print("\n📅 Scheduled Reports Summary:")
    display(schedule_df)
else:
    print("\n💡 No jobs scheduled - Redis required for scheduling functionality")
```

## 5. Custom Report Generation

Generate reports with custom configurations for different use cases:
```python
# Generate different types of custom reports
print("⚙️ Custom Report Generation")
print("============================")

# Define custom report configurations
custom_reports = [
    {
        "name": "Sales Focus Report",
        "config": {
            "focus_area": "sales",
            "time_period": "last_30_days",
            "include_forecasting": True,
            "detailed_breakdowns": True
        }
    },
    {
        "name": "Inventory Management Report",
        "config": {
            "focus_area": "inventory",
            "low_stock_threshold": 10,
            "reorder_recommendations": True,
            "cost_analysis": True
        }
    },
    {
        "name": "Customer Insights Report",
        "config": {
            "focus_area": "customers",
            "segmentation_analysis": True,
            "retention_analysis": True,
            "clv_calculation": True
        }
    }
]

custom_results = []

for report in custom_reports:
    print(f"\n📊 Generating {report['name']}...")
    
    # Add base configuration
    config = report['config'].copy()
    config.update({
        "current_date": datetime.now().strftime("%Y-%m-%d"),
        "output_format": "html",
        "include_charts": True
    })
    
    try:
        result = project.pipeline_manager.run(
            "business_dashboard",
            inputs=config,
            final_vars=["business_dashboard"]
        )
        
        if "business_dashboard" in result:
            dashboard = result["business_dashboard"]
            custom_results.append({
                "name": report['name'],
                "report_path": dashboard['report_path'],
                "kpi_count": len(dashboard['kpis']),
                "alert_count": len(dashboard['alerts']),
                "charts_included": dashboard['charts_included']
            })
            
            print(f"   ✅ Generated successfully")
            print(f"   📄 Report: {dashboard['report_path']}")
            print(f"   📊 KPIs: {len(dashboard['kpis'])}, Alerts: {len(dashboard['alerts'])}")
        else:
            print(f"   ❌ Generation failed - no dashboard data")
            
    except Exception as e:
        print(f"   ❌ Error generating report: {e}")

if custom_results:
    print(f"\n📋 Custom Reports Summary")
    print(f"===========================")
    
    results_df = pd.DataFrame(custom_results)
    display(results_df)
    
    # Visualize report metrics
    fig, axes = plt.subplots(1, 2, figsize=(12, 5))
    
    # KPI counts
    axes[0].bar(results_df['name'], results_df['kpi_count'], color='lightblue')
    axes[0].set_title('KPIs per Report')
    axes[0].set_ylabel('Number of KPIs')
    axes[0].tick_params(axis='x', rotation=45)
    
    # Alert counts
    axes[1].bar(results_df['name'], results_df['alert_count'], color='lightcoral')
    axes[1].set_title('Alerts per Report')
    axes[1].set_ylabel('Number of Alerts')
    axes[1].tick_params(axis='x', rotation=45)
    
    plt.tight_layout()
    plt.show()
    
    print(f"\n🎯 Total reports generated: {len(custom_results)}")
    print(f"📊 Average KPIs per report: {results_df['kpi_count'].mean():.1f}")
    print(f"🚨 Total alerts across all reports: {results_df['alert_count'].sum()}")
else:
    print("\n⚠️ No custom reports generated")
```

## 6. Alert System and Monitoring

Demonstrate the business alert system and monitoring capabilities:
```python
# Generate report focused on alerts and monitoring
print("🚨 Business Alert System")
print("=========================")

# Run pipeline with alert monitoring focus
alert_result = project.pipeline_manager.run(
    "business_dashboard",
    inputs={
        "current_date": datetime.now().strftime("%Y-%m-%d"),
        "alerts_enabled": True,
        "alert_thresholds": {
            "low_inventory": 5,
            "revenue_drop": 0.10,  # 10% drop
            "customer_churn": 0.05  # 5% churn
        },
        "monitoring_mode": True
    },
    final_vars=["business_alerts", "business_dashboard"]
)

if "business_alerts" in alert_result:
    alerts = alert_result["business_alerts"]
    
    print(f"\n📊 Alert Summary:")
    print(f"   • Total alerts: {len(alerts['alerts'])}")
    
    # Categorize alerts by severity
    alert_by_severity = {}
    for alert in alerts['alerts']:
        severity = alert['severity']
        if severity not in alert_by_severity:
            alert_by_severity[severity] = []
        alert_by_severity[severity].append(alert)
    
    # Display alerts by severity
    severity_order = ['CRITICAL', 'HIGH', 'MEDIUM', 'LOW']
    for severity in severity_order:
        if severity in alert_by_severity:
            count = len(alert_by_severity[severity])
            print(f"   • {severity}: {count} alerts")
            
            # Show sample alerts
            for alert in alert_by_severity[severity][:3]:  # Show first 3
                print(f"     - {alert['message']}")
            
            if len(alert_by_severity[severity]) > 3:
                print(f"     ... and {len(alert_by_severity[severity]) - 3} more")
    
    # Create alert visualization
    if alert_by_severity:
        severity_counts = {s: len(alert_by_severity.get(s, [])) for s in severity_order}
        
        # Filter out zero counts
        severity_counts = {k: v for k, v in severity_counts.items() if v > 0}
        
        if severity_counts:
            fig = px.bar(
                x=list(severity_counts.keys()),
                y=list(severity_counts.values()),
                title='Business Alerts by Severity',
                labels={'y': 'Number of Alerts', 'x': 'Severity Level'},
                color=list(severity_counts.values()),
                color_continuous_scale=['green', 'yellow', 'orange', 'red']
            )
            
            fig.update_layout(height=400)
            fig.show()
    
    # Alert trends over time (simulated)
    dates = pd.date_range(start=datetime.now() - timedelta(days=30), end=datetime.now(), freq='D')
    daily_alerts = [abs(int((date.day % 7) + (date.day % 3) - 2)) for date in dates]
    
    fig2 = px.line(
        x=dates,
        y=daily_alerts,
        title='Daily Alert Count Trend (Last 30 Days)',
        labels={'y': 'Number of Alerts', 'x': 'Date'}
    )
    
    fig2.update_layout(height=400)
    fig2.show()
    
    # Alert categories breakdown
    alert_categories = {
        'Inventory': 8,
        'Sales': 5,
        'Customer': 3,
        'System': 2,
        'Financial': 4
    }
    
    fig3 = px.pie(
        values=list(alert_categories.values()),
        names=list(alert_categories.keys()),
        title='Alert Categories Distribution'
    )
    
    fig3.update_layout(height=400)
    fig3.show()
    
else:
    print("\n⚠️ No alert data available")
    print("💡 Alerts would be generated based on business thresholds")

print(f"\n🎯 Alert System Configuration:")
print(f"   • Low inventory threshold: 5 units")
print(f"   • Revenue drop threshold: 10%")
print(f"   • Customer churn threshold: 5%")
print(f"   • Monitoring frequency: Real-time")
print(f"   • Alert delivery: Dashboard + Email (configured)")
```

## 7. Export and Integration

Export reports in different formats and demonstrate integration capabilities:
```python
# Generate reports in multiple formats
print("📤 Report Export and Integration")
print("================================")

# Define export formats
export_formats = ["html", "pdf", "excel", "json"]
export_results = []

for format_type in export_formats:
    print(f"\n📄 Generating {format_type.upper()} report...")
    
    try:
        result = project.pipeline_manager.run(
            "business_dashboard",
            inputs={
                "current_date": datetime.now().strftime("%Y-%m-%d"),
                "output_format": format_type,
                "include_charts": format_type in ["html", "pdf"],
                "export_data": True
            },
            final_vars=["business_dashboard"]
        )
        
        if "business_dashboard" in result:
            dashboard = result["business_dashboard"]
            export_results.append({
                "format": format_type,
                "file_path": dashboard['report_path'],
                "size_mb": dashboard.get('file_size_mb', 'N/A'),
                "charts_included": dashboard['charts_included']
            })
            
            print(f"   ✅ Generated: {dashboard['report_path']}")
            print(f"   📊 Charts: {dashboard['charts_included']}")
        else:
            print(f"   ❌ Failed to generate {format_type} report")
            
    except Exception as e:
        print(f"   ❌ Error generating {format_type} report: {e}")

if export_results:
    print(f"\n📋 Export Summary")
    print(f"==================")
    
    export_df = pd.DataFrame(export_results)
    display(export_df)
    
    # Export format usage visualization
    format_counts = export_df['format'].value_counts()
    
    fig = px.bar(
        x=format_counts.index,
        y=format_counts.values,
        title='Successfully Generated Report Formats',
        labels={'y': 'Count', 'x': 'Format'}
    )
    
    fig.update_layout(height=400)
    fig.show()

# Save export summary
timestamp = datetime.now().strftime('%Y%m%d_%H%M%S')
export_summary = {
    "export_timestamp": datetime.now().isoformat(),
    "total_reports": len(export_results),
    "formats_generated": [r['format'] for r in export_results],
    "report_files": [r['file_path'] for r in export_results]
}

summary_df = pd.DataFrame([export_summary])
summary_file = f"outputs/report_export_summary_{timestamp}.csv"

try:
    os.makedirs("outputs", exist_ok=True)
    summary_df.to_csv(summary_file, index=False)
    print(f"\n💾 Export summary saved: {summary_file}")
except Exception as e:
    print(f"\n⚠️ Could not save export summary: {e}")

print(f"\n🔗 Integration Options:")
print(f"   • Email delivery: Configure SMTP settings")
print(f"   • Slack notifications: Add webhook URLs")
print(f"   • API endpoints: REST API for report data")
print(f"   • Database storage: Save metrics to PostgreSQL/MySQL")
print(f"   • Cloud storage: Upload to S3/Azure/GCS")

print(f"\n🎉 Report generation and export completed successfully!")
print(f"📊 Total reports generated: {len(export_results)}")
print(f"💡 Reports ready for distribution and integration")