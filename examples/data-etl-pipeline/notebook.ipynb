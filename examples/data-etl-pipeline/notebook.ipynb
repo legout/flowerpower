{
 "cells": [
  {
   "cell_type": "markdown",
   "metadata": {},
   "source": [
    "# Data ETL Pipeline - Interactive Example 📊\n",
    "\n",
    "This notebook demonstrates a Data ETL Pipeline for loading, cleaning, and analyzing sales data.\n",
    "\n",
    "**Key steps:**\n",
    "- Load and validate raw data\n",
    "- Clean and transform the data\n",
    "- Generate aggregated reports\n",
    "- Visualize key insights"
   ]
  },
  {
   "cell_type": "markdown",
   "metadata": {},
   "source": [
    "## 🚀 Getting Started\n",
    "\n",
    "To run this notebook, launch Jupyter Lab with the required dependencies:\n",
    "\n",
    "```bash\n",
    "uvx --with \"flowerpower[rq],pandas>=2.0.0,matplotlib,seaborn\" jupyter lab\n",
    "```"
   ]
  },
  {
   "cell_type": "markdown",
   "metadata": {},
   "source": [
    "## 📦 Setup & Dependencies\n",
    "\n",
    "Import necessary libraries and set up the environment."
   ]
  },
  {
   "cell_type": "code",
   "execution_count": 1,
   "metadata": {},
   "outputs": [
    {
     "name": "stderr",
     "output_type": "stream",
     "text": [
      "/home/volker/coding/flowerpower/.worktree/code-simplification-analysis/.venv/lib/python3.12/site-packages/tqdm/auto.py:21: TqdmWarning: IProgress not found. Please update jupyter and ipywidgets. See https://ipywidgets.readthedocs.io/en/stable/user_install.html\n",
      "  from .autonotebook import tqdm as notebook_tqdm\n",
      "2025-09-26 16:16:19,959\tINFO util.py:154 -- Missing packages: ['ipywidgets']. Run `pip install -U ipywidgets`, then restart the notebook server for rich notebook output.\n"
     ]
    },
    {
     "name": "stdout",
     "output_type": "stream",
     "text": [
      "✅ Dependencies loaded and environment set up.\n"
     ]
    }
   ],
   "source": [
    "import sys\n",
    "from pathlib import Path\n",
    "import pandas as pd\n",
    "import matplotlib.pyplot as plt\n",
    "import seaborn as sns\n",
    "import json\n",
    "\n",
    "# Configure plotting\n",
    "plt.style.use(\"default\")\n",
    "sns.set_palette(\"husl\")\n",
    "%matplotlib inline\n",
    "\n",
    "# Add FlowerPower src to path\n",
    "#sys.path.insert(0, str(Path.cwd().parents[2] / \"src\"))\n",
    "\n",
    "from flowerpower.pipeline.manager import PipelineManager\n",
    "\n",
    "print(\"✅ Dependencies loaded and environment set up.\")"
   ]
  },
  {
   "cell_type": "markdown",
   "metadata": {},
   "source": [
    "## 🔧 Initialize FlowerPower Pipeline\n",
    "\n",
    "Set up the pipeline manager to execute our ETL workflow."
   ]
  },
  {
   "cell_type": "code",
   "execution_count": 2,
   "metadata": {},
   "outputs": [
    {
     "name": "stdout",
     "output_type": "stream",
     "text": [
      "✅ Pipeline manager initialized. Available pipelines: [{'name': 'sales_etl', 'path': 'pipelines/sales_etl.py', 'mod_time': '2025-09-15 09:52:46', 'size': '7.2 KB'}]\n"
     ]
    }
   ],
   "source": [
    "pipeline_manager = PipelineManager(base_dir=\".\", fs=None)\n",
    "print(\n",
    "    f\"✅ Pipeline manager initialized. Available pipelines: {pipeline_manager.list_pipelines()}\"\n",
    ")"
   ]
  },
  {
   "cell_type": "markdown",
   "metadata": {},
   "source": [
    "## 📊 Explore Sample Data\n",
    "\n",
    "Examine the raw sales data before processing."
   ]
  },
  {
   "cell_type": "code",
   "execution_count": 3,
   "metadata": {},
   "outputs": [
    {
     "name": "stdout",
     "output_type": "stream",
     "text": [
      "Dataset shape: (20, 5)\n",
      "Missing values: 0\n",
      "Duplicate rows: 0\n"
     ]
    },
    {
     "data": {
      "text/html": [
       "<div>\n",
       "<style scoped>\n",
       "    .dataframe tbody tr th:only-of-type {\n",
       "        vertical-align: middle;\n",
       "    }\n",
       "\n",
       "    .dataframe tbody tr th {\n",
       "        vertical-align: top;\n",
       "    }\n",
       "\n",
       "    .dataframe thead th {\n",
       "        text-align: right;\n",
       "    }\n",
       "</style>\n",
       "<table border=\"1\" class=\"dataframe\">\n",
       "  <thead>\n",
       "    <tr style=\"text-align: right;\">\n",
       "      <th></th>\n",
       "      <th>date</th>\n",
       "      <th>product</th>\n",
       "      <th>price</th>\n",
       "      <th>quantity</th>\n",
       "      <th>customer</th>\n",
       "    </tr>\n",
       "  </thead>\n",
       "  <tbody>\n",
       "    <tr>\n",
       "      <th>0</th>\n",
       "      <td>2024-01-15</td>\n",
       "      <td>Widget A</td>\n",
       "      <td>25.99</td>\n",
       "      <td>5</td>\n",
       "      <td>John Doe</td>\n",
       "    </tr>\n",
       "    <tr>\n",
       "      <th>1</th>\n",
       "      <td>2024-01-15</td>\n",
       "      <td>Widget B</td>\n",
       "      <td>45.50</td>\n",
       "      <td>2</td>\n",
       "      <td>Jane Smith</td>\n",
       "    </tr>\n",
       "    <tr>\n",
       "      <th>2</th>\n",
       "      <td>2024-01-16</td>\n",
       "      <td>Widget A</td>\n",
       "      <td>25.99</td>\n",
       "      <td>3</td>\n",
       "      <td>Bob Johnson</td>\n",
       "    </tr>\n",
       "    <tr>\n",
       "      <th>3</th>\n",
       "      <td>2024-01-16</td>\n",
       "      <td>Widget C</td>\n",
       "      <td>75.00</td>\n",
       "      <td>1</td>\n",
       "      <td>Alice Brown</td>\n",
       "    </tr>\n",
       "    <tr>\n",
       "      <th>4</th>\n",
       "      <td>2024-01-17</td>\n",
       "      <td>Widget B</td>\n",
       "      <td>45.50</td>\n",
       "      <td>4</td>\n",
       "      <td>John Doe</td>\n",
       "    </tr>\n",
       "  </tbody>\n",
       "</table>\n",
       "</div>"
      ],
      "text/plain": [
       "         date   product  price  quantity     customer\n",
       "0  2024-01-15  Widget A  25.99         5     John Doe\n",
       "1  2024-01-15  Widget B  45.50         2   Jane Smith\n",
       "2  2024-01-16  Widget A  25.99         3  Bob Johnson\n",
       "3  2024-01-16  Widget C  75.00         1  Alice Brown\n",
       "4  2024-01-17  Widget B  45.50         4     John Doe"
      ]
     },
     "execution_count": 3,
     "metadata": {},
     "output_type": "execute_result"
    }
   ],
   "source": [
    "sales_data = pd.read_csv(\"data/sales_data.csv\")\n",
    "print(f\"Dataset shape: {sales_data.shape}\")\n",
    "print(f\"Missing values: {sales_data.isnull().sum().sum()}\")\n",
    "print(f\"Duplicate rows: {sales_data.duplicated().sum()}\")\n",
    "sales_data.head()"
   ]
  },
  {
   "cell_type": "markdown",
   "metadata": {},
   "source": [
    "## 🎯 Run ETL Pipeline\n",
    "\n",
    "Execute the `sales_etl` pipeline to process the data."
   ]
  },
  {
   "cell_type": "code",
   "execution_count": 4,
   "metadata": {},
   "outputs": [
    {
     "name": "stderr",
     "output_type": "stream",
     "text": [
      "\u001b[32m2025-09-26 16:16:21.523\u001b[0m | \u001b[1mINFO    \u001b[0m | \u001b[36mflowerpower.pipeline.pipeline\u001b[0m:\u001b[36m_execute_with_retry\u001b[0m:\u001b[36m223\u001b[0m - \u001b[1m🚀 Running pipeline 'sales_etl' (attempt 1/4)\u001b[0m\n",
      "\u001b[32m2025-09-26 16:16:21.526\u001b[0m | \u001b[1mINFO    \u001b[0m | \u001b[36mpipelines.sales_etl\u001b[0m:\u001b[36mraw_data\u001b[0m:\u001b[36m26\u001b[0m - \u001b[1mLoading data from /home/volker/coding/flowerpower/.worktree/code-simplification-analysis/examples/data-etl-pipeline/data/sales_data.csv\u001b[0m\n",
      "\u001b[32m2025-09-26 16:16:21.530\u001b[0m | \u001b[1mINFO    \u001b[0m | \u001b[36mpipelines.sales_etl\u001b[0m:\u001b[36mraw_data\u001b[0m:\u001b[36m32\u001b[0m - \u001b[1mLoaded 20 records from data/sales_data.csv\u001b[0m\n",
      "\u001b[32m2025-09-26 16:16:21.536\u001b[0m | \u001b[1mINFO    \u001b[0m | \u001b[36mpipelines.sales_etl\u001b[0m:\u001b[36mvalidation_report\u001b[0m:\u001b[36m85\u001b[0m - \u001b[1mValidation complete. Valid: True\u001b[0m\n",
      "\u001b[32m2025-09-26 16:16:21.542\u001b[0m | \u001b[1mINFO    \u001b[0m | \u001b[36mpipelines.sales_etl\u001b[0m:\u001b[36mclean_data__true\u001b[0m:\u001b[36m100\u001b[0m - \u001b[1mConverted date column to datetime\u001b[0m\n",
      "\u001b[32m2025-09-26 16:16:21.545\u001b[0m | \u001b[1mINFO    \u001b[0m | \u001b[36mpipelines.sales_etl\u001b[0m:\u001b[36mclean_data__true\u001b[0m:\u001b[36m122\u001b[0m - \u001b[1mCalculated total_sales column\u001b[0m\n",
      "\u001b[32m2025-09-26 16:16:21.546\u001b[0m | \u001b[1mINFO    \u001b[0m | \u001b[36mpipelines.sales_etl\u001b[0m:\u001b[36mclean_data__true\u001b[0m:\u001b[36m124\u001b[0m - \u001b[1mData cleaning complete. Final record count: 20\u001b[0m\n",
      "\u001b[32m2025-09-26 16:16:21.554\u001b[0m | \u001b[1mINFO    \u001b[0m | \u001b[36mpipelines.sales_etl\u001b[0m:\u001b[36msales_summary\u001b[0m:\u001b[36m178\u001b[0m - \u001b[1mGenerated sales summary with 13 groups\u001b[0m\n",
      "\u001b[32m2025-09-26 16:16:21.555\u001b[0m | \u001b[32m\u001b[1mSUCCESS \u001b[0m | \u001b[36mflowerpower.pipeline.pipeline\u001b[0m:\u001b[36m_execute_with_retry\u001b[0m:\u001b[36m232\u001b[0m - \u001b[32m\u001b[1m✅ Pipeline 'sales_etl' completed successfully in a moment\u001b[0m\n"
     ]
    },
    {
     "name": "stdout",
     "output_type": "stream",
     "text": [
      "✅ Pipeline execution completed!\n"
     ]
    }
   ],
   "source": [
    "result = pipeline_manager.run(\n",
    "    \"sales_etl\", final_vars=[\"clean_data\", \"sales_summary\", \"validation_report\"]\n",
    ")\n",
    "\n",
    "clean_data = result[\"clean_data\"]\n",
    "sales_summary = result[\"sales_summary\"]\n",
    "validation_report = result[\"validation_report\"]\n",
    "\n",
    "print(\"✅ Pipeline execution completed!\")"
   ]
  },
  {
   "cell_type": "markdown",
   "metadata": {},
   "source": [
    "### 🔍 Validation Report\n",
    "\n",
    "Check the data validation results."
   ]
  },
  {
   "cell_type": "code",
   "execution_count": 5,
   "metadata": {},
   "outputs": [
    {
     "name": "stdout",
     "output_type": "stream",
     "text": [
      "Data is valid: True\n",
      "Price violations: 0\n"
     ]
    }
   ],
   "source": [
    "print(f\"Data is valid: {validation_report['is_valid']}\")\n",
    "print(f\"Price violations: {validation_report['price_violations']}\")\n",
    "if validation_report[\"missing_values\"]:\n",
    "    print(f\"Missing values: {validation_report['missing_values']}\")"
   ]
  },
  {
   "cell_type": "markdown",
   "metadata": {},
   "source": [
    "### 🧹 Clean Data\n",
    "\n",
    "Inspect the cleaned data."
   ]
  },
  {
   "cell_type": "code",
   "execution_count": 6,
   "metadata": {},
   "outputs": [
    {
     "name": "stdout",
     "output_type": "stream",
     "text": [
      "Clean data shape: (20, 6)\n",
      "Missing values after cleaning: 0\n",
      "Total revenue: $2,433.22\n"
     ]
    },
    {
     "data": {
      "text/html": [
       "<div>\n",
       "<style scoped>\n",
       "    .dataframe tbody tr th:only-of-type {\n",
       "        vertical-align: middle;\n",
       "    }\n",
       "\n",
       "    .dataframe tbody tr th {\n",
       "        vertical-align: top;\n",
       "    }\n",
       "\n",
       "    .dataframe thead th {\n",
       "        text-align: right;\n",
       "    }\n",
       "</style>\n",
       "<table border=\"1\" class=\"dataframe\">\n",
       "  <thead>\n",
       "    <tr style=\"text-align: right;\">\n",
       "      <th></th>\n",
       "      <th>date</th>\n",
       "      <th>product</th>\n",
       "      <th>price</th>\n",
       "      <th>quantity</th>\n",
       "      <th>customer</th>\n",
       "      <th>total_sales</th>\n",
       "    </tr>\n",
       "  </thead>\n",
       "  <tbody>\n",
       "    <tr>\n",
       "      <th>0</th>\n",
       "      <td>2024-01-15</td>\n",
       "      <td>Widget A</td>\n",
       "      <td>25.99</td>\n",
       "      <td>5</td>\n",
       "      <td>John Doe</td>\n",
       "      <td>129.95</td>\n",
       "    </tr>\n",
       "    <tr>\n",
       "      <th>1</th>\n",
       "      <td>2024-01-15</td>\n",
       "      <td>Widget B</td>\n",
       "      <td>45.50</td>\n",
       "      <td>2</td>\n",
       "      <td>Jane Smith</td>\n",
       "      <td>91.00</td>\n",
       "    </tr>\n",
       "    <tr>\n",
       "      <th>2</th>\n",
       "      <td>2024-01-16</td>\n",
       "      <td>Widget A</td>\n",
       "      <td>25.99</td>\n",
       "      <td>3</td>\n",
       "      <td>Bob Johnson</td>\n",
       "      <td>77.97</td>\n",
       "    </tr>\n",
       "    <tr>\n",
       "      <th>3</th>\n",
       "      <td>2024-01-16</td>\n",
       "      <td>Widget C</td>\n",
       "      <td>75.00</td>\n",
       "      <td>1</td>\n",
       "      <td>Alice Brown</td>\n",
       "      <td>75.00</td>\n",
       "    </tr>\n",
       "    <tr>\n",
       "      <th>4</th>\n",
       "      <td>2024-01-17</td>\n",
       "      <td>Widget B</td>\n",
       "      <td>45.50</td>\n",
       "      <td>4</td>\n",
       "      <td>John Doe</td>\n",
       "      <td>182.00</td>\n",
       "    </tr>\n",
       "  </tbody>\n",
       "</table>\n",
       "</div>"
      ],
      "text/plain": [
       "        date   product  price  quantity     customer  total_sales\n",
       "0 2024-01-15  Widget A  25.99         5     John Doe       129.95\n",
       "1 2024-01-15  Widget B  45.50         2   Jane Smith        91.00\n",
       "2 2024-01-16  Widget A  25.99         3  Bob Johnson        77.97\n",
       "3 2024-01-16  Widget C  75.00         1  Alice Brown        75.00\n",
       "4 2024-01-17  Widget B  45.50         4     John Doe       182.00"
      ]
     },
     "execution_count": 6,
     "metadata": {},
     "output_type": "execute_result"
    }
   ],
   "source": [
    "print(f\"Clean data shape: {clean_data.shape}\")\n",
    "print(f\"Missing values after cleaning: {clean_data.isnull().sum().sum()}\")\n",
    "print(f\"Total revenue: ${clean_data['total_sales'].sum():,.2f}\")\n",
    "clean_data.head()"
   ]
  },
  {
   "cell_type": "markdown",
   "metadata": {},
   "source": [
    "### 📈 Sales Summary\n",
    "\n",
    "Review the aggregated sales summary."
   ]
  },
  {
   "cell_type": "code",
   "execution_count": 7,
   "metadata": {},
   "outputs": [
    {
     "name": "stdout",
     "output_type": "stream",
     "text": [
      "Sales summary shape: (13, 5)\n"
     ]
    },
    {
     "data": {
      "text/html": [
       "<div>\n",
       "<style scoped>\n",
       "    .dataframe tbody tr th:only-of-type {\n",
       "        vertical-align: middle;\n",
       "    }\n",
       "\n",
       "    .dataframe tbody tr th {\n",
       "        vertical-align: top;\n",
       "    }\n",
       "\n",
       "    .dataframe thead th {\n",
       "        text-align: right;\n",
       "    }\n",
       "</style>\n",
       "<table border=\"1\" class=\"dataframe\">\n",
       "  <thead>\n",
       "    <tr style=\"text-align: right;\">\n",
       "      <th></th>\n",
       "      <th>product</th>\n",
       "      <th>customer</th>\n",
       "      <th>total_sales</th>\n",
       "      <th>avg_price</th>\n",
       "      <th>total_quantity</th>\n",
       "    </tr>\n",
       "  </thead>\n",
       "  <tbody>\n",
       "    <tr>\n",
       "      <th>7</th>\n",
       "      <td>Widget B</td>\n",
       "      <td>Jane Smith</td>\n",
       "      <td>500.50</td>\n",
       "      <td>45.50</td>\n",
       "      <td>11</td>\n",
       "    </tr>\n",
       "    <tr>\n",
       "      <th>10</th>\n",
       "      <td>Widget C</td>\n",
       "      <td>Bob Johnson</td>\n",
       "      <td>300.00</td>\n",
       "      <td>75.00</td>\n",
       "      <td>4</td>\n",
       "    </tr>\n",
       "    <tr>\n",
       "      <th>3</th>\n",
       "      <td>Widget A</td>\n",
       "      <td>David Lee</td>\n",
       "      <td>285.89</td>\n",
       "      <td>25.99</td>\n",
       "      <td>11</td>\n",
       "    </tr>\n",
       "    <tr>\n",
       "      <th>5</th>\n",
       "      <td>Widget B</td>\n",
       "      <td>Carol White</td>\n",
       "      <td>227.50</td>\n",
       "      <td>45.50</td>\n",
       "      <td>5</td>\n",
       "    </tr>\n",
       "    <tr>\n",
       "      <th>12</th>\n",
       "      <td>Widget C</td>\n",
       "      <td>John Doe</td>\n",
       "      <td>225.00</td>\n",
       "      <td>75.00</td>\n",
       "      <td>3</td>\n",
       "    </tr>\n",
       "    <tr>\n",
       "      <th>8</th>\n",
       "      <td>Widget B</td>\n",
       "      <td>John Doe</td>\n",
       "      <td>182.00</td>\n",
       "      <td>45.50</td>\n",
       "      <td>4</td>\n",
       "    </tr>\n",
       "    <tr>\n",
       "      <th>0</th>\n",
       "      <td>Widget A</td>\n",
       "      <td>Alice Brown</td>\n",
       "      <td>181.93</td>\n",
       "      <td>25.99</td>\n",
       "      <td>7</td>\n",
       "    </tr>\n",
       "    <tr>\n",
       "      <th>11</th>\n",
       "      <td>Widget C</td>\n",
       "      <td>Jane Smith</td>\n",
       "      <td>150.00</td>\n",
       "      <td>75.00</td>\n",
       "      <td>2</td>\n",
       "    </tr>\n",
       "    <tr>\n",
       "      <th>4</th>\n",
       "      <td>Widget A</td>\n",
       "      <td>John Doe</td>\n",
       "      <td>129.95</td>\n",
       "      <td>25.99</td>\n",
       "      <td>5</td>\n",
       "    </tr>\n",
       "    <tr>\n",
       "      <th>1</th>\n",
       "      <td>Widget A</td>\n",
       "      <td>Bob Johnson</td>\n",
       "      <td>77.97</td>\n",
       "      <td>25.99</td>\n",
       "      <td>3</td>\n",
       "    </tr>\n",
       "  </tbody>\n",
       "</table>\n",
       "</div>"
      ],
      "text/plain": [
       "     product     customer  total_sales  avg_price  total_quantity\n",
       "7   Widget B   Jane Smith       500.50      45.50              11\n",
       "10  Widget C  Bob Johnson       300.00      75.00               4\n",
       "3   Widget A    David Lee       285.89      25.99              11\n",
       "5   Widget B  Carol White       227.50      45.50               5\n",
       "12  Widget C     John Doe       225.00      75.00               3\n",
       "8   Widget B     John Doe       182.00      45.50               4\n",
       "0   Widget A  Alice Brown       181.93      25.99               7\n",
       "11  Widget C   Jane Smith       150.00      75.00               2\n",
       "4   Widget A     John Doe       129.95      25.99               5\n",
       "1   Widget A  Bob Johnson        77.97      25.99               3"
      ]
     },
     "execution_count": 7,
     "metadata": {},
     "output_type": "execute_result"
    }
   ],
   "source": [
    "print(f\"Sales summary shape: {sales_summary.shape}\")\n",
    "sales_summary.head(10)"
   ]
  },
  {
   "cell_type": "markdown",
   "metadata": {},
   "source": [
    "## 📊 Data Visualization\n",
    "\n",
    "Visualize the processed data to gain insights."
   ]
  },
  {
   "cell_type": "code",
   "execution_count": 8,
   "metadata": {},
   "outputs": [
    {
     "data": {
      "image/png": "[encoded data removed]",
      "text/plain": [
       "<Figure size 1500x1200 with 4 Axes>"
      ]
     },
     "metadata": {},
     "output_type": "display_data"
    }
   ],
   "source": [
    "fig, axes = plt.subplots(2, 2, figsize=(15, 12))\n",
    "fig.suptitle(\"Sales Data Analysis\", fontsize=16)\n",
    "\n",
    "# Revenue by Product\n",
    "product_revenue = (\n",
    "    sales_summary.groupby(\"product\")[\"total_sales\"].sum().sort_values(ascending=False)\n",
    ")\n",
    "axes[0, 0].bar(product_revenue.index, product_revenue.values)\n",
    "axes[0, 0].set_title(\"Revenue by Product\")\n",
    "axes[0, 0].tick_params(axis=\"x\", rotation=45)\n",
    "\n",
    "# Sale Amount Distribution\n",
    "axes[0, 1].hist(clean_data[\"total_sales\"], bins=30, alpha=0.7)\n",
    "axes[0, 1].set_title(\"Sale Amount Distribution\")\n",
    "\n",
    "# Customer Spending\n",
    "customer_spending = (\n",
    "    sales_summary.groupby(\"customer\")[\"total_sales\"].sum().sort_values(ascending=False)\n",
    ")\n",
    "axes[1, 0].bar(customer_spending.index, customer_spending.values)\n",
    "axes[1, 0].set_title(\"Customer Total Spending\")\n",
    "\n",
    "# Quantity vs Revenue\n",
    "axes[1, 1].scatter(\n",
    "    sales_summary[\"total_quantity\"], sales_summary[\"total_sales\"], alpha=0.6\n",
    ")\n",
    "axes[1, 1].set_title(\"Quantity vs Revenue\")\n",
    "\n",
    "plt.tight_layout()\n",
    "plt.show()"
   ]
  },
  {
   "cell_type": "markdown",
   "metadata": {},
   "source": [
    "## ⚙️ Pipeline Configuration Experiments\n",
    "\n",
    "Test how different configurations affect the output. Here, we'll test a stricter price validation."
   ]
  },
  {
   "cell_type": "code",
   "execution_count": 9,
   "metadata": {},
   "outputs": [
    {
     "name": "stderr",
     "output_type": "stream",
     "text": [
      "\u001b[32m2025-09-26 16:16:32.601\u001b[0m | \u001b[1mINFO    \u001b[0m | \u001b[36mflowerpower.pipeline.pipeline\u001b[0m:\u001b[36m_execute_with_retry\u001b[0m:\u001b[36m223\u001b[0m - \u001b[1m🚀 Running pipeline 'sales_etl' (attempt 1/4)\u001b[0m\n",
      "\u001b[32m2025-09-26 16:16:32.604\u001b[0m | \u001b[1mINFO    \u001b[0m | \u001b[36mpipelines.sales_etl\u001b[0m:\u001b[36mraw_data\u001b[0m:\u001b[36m26\u001b[0m - \u001b[1mLoading data from /home/volker/coding/flowerpower/.worktree/code-simplification-analysis/examples/data-etl-pipeline/data/sales_data.csv\u001b[0m\n",
      "\u001b[32m2025-09-26 16:16:32.606\u001b[0m | \u001b[1mINFO    \u001b[0m | \u001b[36mpipelines.sales_etl\u001b[0m:\u001b[36mraw_data\u001b[0m:\u001b[36m32\u001b[0m - \u001b[1mLoaded 20 records from data/sales_data.csv\u001b[0m\n",
      "\u001b[32m2025-09-26 16:16:32.609\u001b[0m | \u001b[1mINFO    \u001b[0m | \u001b[36mpipelines.sales_etl\u001b[0m:\u001b[36mvalidation_report\u001b[0m:\u001b[36m85\u001b[0m - \u001b[1mValidation complete. Valid: True\u001b[0m\n",
      "\u001b[32m2025-09-26 16:16:32.610\u001b[0m | \u001b[32m\u001b[1mSUCCESS \u001b[0m | \u001b[36mflowerpower.pipeline.pipeline\u001b[0m:\u001b[36m_execute_with_retry\u001b[0m:\u001b[36m232\u001b[0m - \u001b[32m\u001b[1m✅ Pipeline 'sales_etl' completed successfully in a moment\u001b[0m\n"
     ]
    },
    {
     "name": "stdout",
     "output_type": "stream",
     "text": [
      "Original price violations: 0\n",
      "Strict price violations: 0\n"
     ]
    }
   ],
   "source": [
    "strict_result = pipeline_manager.run(\n",
    "    \"sales_etl\",\n",
    "    inputs={\"min_price\": 5.0, \"max_price\": 500.0},\n",
    "    final_vars=[\"validation_report\"],\n",
    ")\n",
    "strict_validation = strict_result[\"validation_report\"]\n",
    "\n",
    "print(f\"Original price violations: {validation_report['price_violations']}\")\n",
    "print(f\"Strict price violations: {strict_validation['price_violations']}\")"
   ]
  },
  {
   "cell_type": "markdown",
   "metadata": {},
   "source": [
    "## 💾 Export and Save Results\n",
    "\n",
    "Save the cleaned data, sales summary, and validation report."
   ]
  },
  {
   "cell_type": "code",
   "execution_count": 10,
   "metadata": {},
   "outputs": [
    {
     "name": "stdout",
     "output_type": "stream",
     "text": [
      "✅ Outputs saved to: /home/volker/coding/flowerpower/.worktree/code-simplification-analysis/examples/data-etl-pipeline/notebook_outputs\n"
     ]
    }
   ],
   "source": [
    "output_dir = Path(\"notebook_outputs\")\n",
    "output_dir.mkdir(exist_ok=True)\n",
    "\n",
    "clean_data.to_csv(output_dir / \"cleaned_sales_data.csv\", index=False)\n",
    "sales_summary.to_csv(output_dir / \"sales_summary.csv\", index=False)\n",
    "with open(output_dir / \"validation_report.json\", \"w\") as f:\n",
    "    json.dump(validation_report, f, indent=2, default=str)\n",
    "\n",
    "print(f\"✅ Outputs saved to: {output_dir.absolute()}\")"
   ]
  },
  {
   "cell_type": "markdown",
   "metadata": {},
   "source": [
    "## 🔗 Learn More\n",
    "\n",
    "To run the script version of this pipeline:\n",
    "\n",
    "```bash\n",
    "uv run scripts/run_example.py sync\n",
    "```"
   ]
  }
 ],
 "metadata": {
  "kernelspec": {
   "display_name": "flowerpower (3.12.8)",
   "language": "python",
   "name": "python3"
  },
  "language_info": {
   "codemirror_mode": {
    "name": "ipython",
    "version": 3
   },
   "file_extension": ".py",
   "mimetype": "text/x-python",
   "name": "python",
   "nbconvert_exporter": "python",
   "pygments_lexer": "ipython3",
   "version": "3.12.8"
  }
 },
 "nbformat": 4,
 "nbformat_minor": 2
}
