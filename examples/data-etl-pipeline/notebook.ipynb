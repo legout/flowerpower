{
 "cells": [
  {
   "cell_type": "markdown",
   "metadata": {},
   "source": [
    "# Data ETL Pipeline - Interactive Example 📊\n",
    "\n",
    "This notebook demonstrates a Data ETL Pipeline for loading, cleaning, and analyzing sales data.\n",
    "\n",
    "**Key steps:**\n",
    "- Load and validate raw data\n",
    "- Clean and transform the data\n",
    "- Generate aggregated reports\n",
    "- Visualize key insights"
   ]
  },
  {
   "cell_type": "markdown",
   "metadata": {},
   "source": [
    "## 🚀 Getting Started\n",
    "\n",
    "To run this notebook, launch Jupyter Lab with the required dependencies:\n",
    "\n",
    "```bash\n",
    "uvx --with \"flowerpower[rq],pandas>=2.0.0,matplotlib,seaborn\" jupyter lab\n",
    "```"
   ]
  },
  {
   "cell_type": "markdown",
   "metadata": {},
   "source": [
    "## 📦 Setup & Dependencies\n",
    "\n",
    "Import necessary libraries and set up the environment."
   ]
  },
  {
   "cell_type": "code",
   "execution_count": null,
   "metadata": {},
   "outputs": [],
   "source": [
    "import sys\n",
    "from pathlib import Path\n",
    "import pandas as pd\n",
    "import matplotlib.pyplot as plt\n",
    "import seaborn as sns\n",
    "import json\n",
    "\n",
    "# Configure plotting\n",
    "plt.style.use('default')\n",
    "sns.set_palette(\"husl\")\n",
    "%matplotlib inline\n",
    "\n",
    "# Add FlowerPower src to path\n",
    "sys.path.insert(0, str(Path.cwd().parents[2] / \"src\"))\n",
    "\n",
    "from flowerpower.pipeline.manager import PipelineManager\n",
    "\n",
    "print(\"✅ Dependencies loaded and environment set up.\")"
   ]
  },
  {
   "cell_type": "markdown",
   "metadata": {},
   "source": [
    "## 🔧 Initialize FlowerPower Pipeline\n",
    "\n",
    "Set up the pipeline manager to execute our ETL workflow."
   ]
  },
  {
   "cell_type": "code",
   "execution_count": null,
   "metadata": {},
   "outputs": [],
   "source": [
    "pipeline_manager = PipelineManager(base_dir=\".\", fs=None)\n",
    "print(f\"✅ Pipeline manager initialized. Available pipelines: {pipeline_manager.list_pipelines()}\")"
   ]
  },
  {
   "cell_type": "markdown",
   "metadata": {},
   "source": [
    "## 📊 Explore Sample Data\n",
    "\n",
    "Examine the raw sales data before processing."
   ]
  },
  {
   "cell_type": "code",
   "execution_count": null,
   "metadata": {},
   "outputs": [],
   "source": [
    "sales_data = pd.read_csv(\"data/sales_data.csv\")\n",
    "print(f\"Dataset shape: {sales_data.shape}\")\n",
    "print(f\"Missing values: {sales_data.isnull().sum().sum()}\")\n",
    "print(f\"Duplicate rows: {sales_data.duplicated().sum()}\")\n",
    "sales_data.head()"
   ]
  },
  {
   "cell_type": "markdown",
   "metadata": {},
   "source": [
    "## 🎯 Run ETL Pipeline\n",
    "\n",
    "Execute the `sales_etl` pipeline to process the data."
   ]
  },
  {
   "cell_type": "code",
   "execution_count": null,
   "metadata": {},
   "outputs": [],
   "source": [
    "result = pipeline_manager.run(\n",
    "    \"sales_etl\",\n",
    "    final_vars=[\"clean_data\", \"sales_summary\", \"validation_report\"]\n",
    ")\n",
    "\n",
    "clean_data = result['clean_data']\n",
    "sales_summary = result['sales_summary']\n",
    "validation_report = result['validation_report']\n",
    "\n",
    "print(\"✅ Pipeline execution completed!\")"
   ]
  },
  {
   "cell_type": "markdown",
   "metadata": {},
   "source": [
    "### 🔍 Validation Report\n",
    "\n",
    "Check the data validation results."
   ]
  },
  {
   "cell_type": "code",
   "execution_count": null,
   "metadata": {},
   "outputs": [],
   "source": [
    "print(f\"Data is valid: {validation_report['is_valid']}\")\n",
    "print(f\"Price violations: {validation_report['price_violations']}\")\n",
    "if validation_report['missing_values']:\n",
    "    print(f\"Missing values: {validation_report['missing_values']}\")"
   ]
  },
  {
   "cell_type": "markdown",
   "metadata": {},
   "source": [
    "### 🧹 Clean Data\n",
    "\n",
    "Inspect the cleaned data."
   ]
  },
  {
   "cell_type": "code",
   "execution_count": null,
   "metadata": {},
   "outputs": [],
   "source": [
    "print(f\"Clean data shape: {clean_data.shape}\")\n",
    "print(f\"Missing values after cleaning: {clean_data.isnull().sum().sum()}\")\n",
    "print(f\"Total revenue: ${clean_data['total_sales'].sum():,.2f}\")\n",
    "clean_data.head()"
   ]
  },
  {
   "cell_type": "markdown",
   "metadata": {},
   "source": [
    "### 📈 Sales Summary\n",
    "\n",
    "Review the aggregated sales summary."
   ]
  },
  {
   "cell_type": "code",
   "execution_count": null,
   "metadata": {},
   "outputs": [],
   "source": [
    "print(f\"Sales summary shape: {sales_summary.shape}\")\n",
    "sales_summary.head(10)"
   ]
  },
  {
   "cell_type": "markdown",
   "metadata": {},
   "source": [
    "## 📊 Data Visualization\n",
    "\n",
    "Visualize the processed data to gain insights."
   ]
  },
  {
   "cell_type": "code",
   "execution_count": null,
   "metadata": {},
   "outputs": [],
   "source": [
    "fig, axes = plt.subplots(2, 2, figsize=(15, 12))\n",
    "fig.suptitle('Sales Data Analysis', fontsize=16)\n",
    "\n",
    "# Revenue by Product\n",
    "product_revenue = sales_summary.groupby('product')['total_sales'].sum().sort_values(ascending=False)\n",
    "axes[0, 0].bar(product_revenue.index, product_revenue.values)\n",
    "axes[0, 0].set_title('Revenue by Product')\n",
    "axes[0, 0].tick_params(axis='x', rotation=45)\n",
    "\n",
    "# Sale Amount Distribution\n",
    "axes[0, 1].hist(clean_data['total_sales'], bins=30, alpha=0.7)\n",
    "axes[0, 1].set_title('Sale Amount Distribution')\n",
    "\n",
    "# Customer Spending\n",
    "customer_spending = sales_summary.groupby('customer')['total_sales'].sum().sort_values(ascending=False)\n",
    "axes[1, 0].bar(customer_spending.index, customer_spending.values)\n",
    "axes[1, 0].set_title('Customer Total Spending')\n",
    "\n",
    "# Quantity vs Revenue\n",
    "axes[1, 1].scatter(sales_summary['total_quantity'], sales_summary['total_sales'], alpha=0.6)\n",
    "axes[1, 1].set_title('Quantity vs Revenue')\n",
    "\n",
    "plt.tight_layout()\n",
    "plt.show()"
   ]
  },
  {
   "cell_type": "markdown",
   "metadata": {},
   "source": [
    "## ⚙️ Pipeline Configuration Experiments\n",
    "\n",
    "Test how different configurations affect the output. Here, we'll test a stricter price validation."
   ]
  },
  {
   "cell_type": "code",
   "execution_count": null,
   "metadata": {},
   "outputs": [],
   "source": [
    "strict_result = pipeline_manager.run(\n",
    "    \"sales_etl\",\n",
    "    inputs={\"min_price\": 5.0, \"max_price\": 500.0},\n",
    "    final_vars=[\"validation_report\"]\n",
    ")\n",
    "strict_validation = strict_result['validation_report']\n",
    "\n",
    "print(f\"Original price violations: {validation_report['price_violations']}\")\n",
    "print(f\"Strict price violations: {strict_validation['price_violations']}\")"
   ]
  },
  {
   "cell_type": "markdown",
   "metadata": {},
   "source": [
    "## 💾 Export and Save Results\n",
    "\n",
    "Save the cleaned data, sales summary, and validation report."
   ]
  },
  {
   "cell_type": "code",
   "execution_count": null,
   "metadata": {},
   "outputs": [],
   "source": [
    "output_dir = Path(\"notebook_outputs\")\n",
    "output_dir.mkdir(exist_ok=True)\n",
    "\n",
    "clean_data.to_csv(output_dir / \"cleaned_sales_data.csv\", index=False)\n",
    "sales_summary.to_csv(output_dir / \"sales_summary.csv\", index=False)\n",
    "with open(output_dir / \"validation_report.json\", \"w\") as f:\n",
    "    json.dump(validation_report, f, indent=2, default=str)\n",
    "\n",
    "print(f\"✅ Outputs saved to: {output_dir.absolute()}\")"
   ]
  },
  {
   "cell_type": "markdown",
   "metadata": {},
   "source": [
    "## 🔗 Learn More\n",
    "\n",
    "To run the script version of this pipeline:\n",
    "\n",
    "```bash\n",
    "uv run scripts/run_example.py sync\n",
    "```"
   ]
  }
 ],
 "metadata": {
  "kernelspec": {
   "display_name": "Python 3",
   "language": "python",
   "name": "python3"
  },
  "language_info": {
   "name": "python",
   "version": "3.9.1"
  }
 },
 "nbformat": 4,
 "nbformat_minor": 2
}