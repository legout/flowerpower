{
 "cells": [
  {
   "cell_type": "markdown",
   "metadata": {},
   "source": [
    "# Data ETL Pipeline - Interactive Example 📊\n",
    "\n",
    "This notebook demonstrates a Data ETL Pipeline for loading, cleaning, and analyzing sales data.\n",
    "\n",
    "**Key steps:**\n",
    "- Load and validate raw data\n",
    "- Clean and transform the data\n",
    "- Generate aggregated reports\n",
    "- Visualize key insights"
   ]
  },
  {
   "cell_type": "markdown",
   "metadata": {},
   "source": [
    "## 🚀 Getting Started\n",
    "\n",
    "To run this notebook, launch Jupyter Lab with the required dependencies:\n",
    "\n",
    "```bash\n",
    "uvx --with \"flowerpower[rq],pandas>=2.0.0,matplotlib,seaborn\" jupyter lab\n",
    "```"
   ]
  },
  {
   "cell_type": "markdown",
   "metadata": {},
   "source": [
    "## 📦 Setup & Dependencies\n",
    "\n",
    "Import necessary libraries and set up the environment."
   ]
  },
  {
   "cell_type": "code",
   "execution_count": 1,
   "metadata": {},
   "outputs": [
    {
     "name": "stderr",
     "output_type": "stream",
     "text": [
      "Matplotlib is building the font cache; this may take a moment.\n",
      "/home/volker/coding/flowerpower/.worktree/code-simplification-analysis/.venv/lib/python3.12/site-packages/tqdm/auto.py:21: TqdmWarning: IProgress not found. Please update jupyter and ipywidgets. See https://ipywidgets.readthedocs.io/en/stable/user_install.html\n",
      "  from .autonotebook import tqdm as notebook_tqdm\n",
      "2025-09-26 16:11:32,324\tINFO util.py:154 -- Missing packages: ['ipywidgets']. Run `pip install -U ipywidgets`, then restart the notebook server for rich notebook output.\n"
     ]
    },
    {
     "name": "stdout",
     "output_type": "stream",
     "text": [
      "✅ Dependencies loaded and environment set up.\n"
     ]
    }
   ],
   "source": [
    "import sys\n",
    "from pathlib import Path\n",
    "import pandas as pd\n",
    "import matplotlib.pyplot as plt\n",
    "import seaborn as sns\n",
    "import json\n",
    "\n",
    "# Configure plotting\n",
    "plt.style.use(\"default\")\n",
    "sns.set_palette(\"husl\")\n",
    "%matplotlib inline\n",
    "\n",
    "# Add FlowerPower src to path\n",
    "#sys.path.insert(0, str(Path.cwd().parents[2] / \"src\"))\n",
    "\n",
    "from flowerpower.pipeline.manager import PipelineManager\n",
    "\n",
    "print(\"✅ Dependencies loaded and environment set up.\")"
   ]
  },
  {
   "cell_type": "markdown",
   "metadata": {},
   "source": [
    "## 🔧 Initialize FlowerPower Pipeline\n",
    "\n",
    "Set up the pipeline manager to execute our ETL workflow."
   ]
  },
  {
   "cell_type": "code",
   "execution_count": 2,
   "metadata": {},
   "outputs": [
    {
     "name": "stdout",
     "output_type": "stream",
     "text": [
      "✅ Pipeline manager initialized. Available pipelines: [{'name': 'sales_etl', 'path': 'pipelines/sales_etl.py', 'mod_time': '2025-09-15 09:52:46', 'size': '7.2 KB'}]\n"
     ]
    }
   ],
   "source": [
    "pipeline_manager = PipelineManager(base_dir=\".\", fs=None)\n",
    "print(\n",
    "    f\"✅ Pipeline manager initialized. Available pipelines: {pipeline_manager.list_pipelines()}\"\n",
    ")"
   ]
  },
  {
   "cell_type": "markdown",
   "metadata": {},
   "source": [
    "## 📊 Explore Sample Data\n",
    "\n",
    "Examine the raw sales data before processing."
   ]
  },
  {
   "cell_type": "code",
   "execution_count": 3,
   "metadata": {},
   "outputs": [
    {
     "name": "stdout",
     "output_type": "stream",
     "text": [
      "Dataset shape: (20, 5)\n",
      "Missing values: 0\n",
      "Duplicate rows: 0\n"
     ]
    },
    {
     "data": {
      "text/html": [
       "<div>\n",
       "<style scoped>\n",
       "    .dataframe tbody tr th:only-of-type {\n",
       "        vertical-align: middle;\n",
       "    }\n",
       "\n",
       "    .dataframe tbody tr th {\n",
       "        vertical-align: top;\n",
       "    }\n",
       "\n",
       "    .dataframe thead th {\n",
       "        text-align: right;\n",
       "    }\n",
       "</style>\n",
       "<table border=\"1\" class=\"dataframe\">\n",
       "  <thead>\n",
       "    <tr style=\"text-align: right;\">\n",
       "      <th></th>\n",
       "      <th>date</th>\n",
       "      <th>product</th>\n",
       "      <th>price</th>\n",
       "      <th>quantity</th>\n",
       "      <th>customer</th>\n",
       "    </tr>\n",
       "  </thead>\n",
       "  <tbody>\n",
       "    <tr>\n",
       "      <th>0</th>\n",
       "      <td>2024-01-15</td>\n",
       "      <td>Widget A</td>\n",
       "      <td>25.99</td>\n",
       "      <td>5</td>\n",
       "      <td>John Doe</td>\n",
       "    </tr>\n",
       "    <tr>\n",
       "      <th>1</th>\n",
       "      <td>2024-01-15</td>\n",
       "      <td>Widget B</td>\n",
       "      <td>45.50</td>\n",
       "      <td>2</td>\n",
       "      <td>Jane Smith</td>\n",
       "    </tr>\n",
       "    <tr>\n",
       "      <th>2</th>\n",
       "      <td>2024-01-16</td>\n",
       "      <td>Widget A</td>\n",
       "      <td>25.99</td>\n",
       "      <td>3</td>\n",
       "      <td>Bob Johnson</td>\n",
       "    </tr>\n",
       "    <tr>\n",
       "      <th>3</th>\n",
       "      <td>2024-01-16</td>\n",
       "      <td>Widget C</td>\n",
       "      <td>75.00</td>\n",
       "      <td>1</td>\n",
       "      <td>Alice Brown</td>\n",
       "    </tr>\n",
       "    <tr>\n",
       "      <th>4</th>\n",
       "      <td>2024-01-17</td>\n",
       "      <td>Widget B</td>\n",
       "      <td>45.50</td>\n",
       "      <td>4</td>\n",
       "      <td>John Doe</td>\n",
       "    </tr>\n",
       "  </tbody>\n",
       "</table>\n",
       "</div>"
      ],
      "text/plain": [
       "         date   product  price  quantity     customer\n",
       "0  2024-01-15  Widget A  25.99         5     John Doe\n",
       "1  2024-01-15  Widget B  45.50         2   Jane Smith\n",
       "2  2024-01-16  Widget A  25.99         3  Bob Johnson\n",
       "3  2024-01-16  Widget C  75.00         1  Alice Brown\n",
       "4  2024-01-17  Widget B  45.50         4     John Doe"
      ]
     },
     "execution_count": 3,
     "metadata": {},
     "output_type": "execute_result"
    }
   ],
   "source": [
    "sales_data = pd.read_csv(\"data/sales_data.csv\")\n",
    "print(f\"Dataset shape: {sales_data.shape}\")\n",
    "print(f\"Missing values: {sales_data.isnull().sum().sum()}\")\n",
    "print(f\"Duplicate rows: {sales_data.duplicated().sum()}\")\n",
    "sales_data.head()"
   ]
  },
  {
   "cell_type": "markdown",
   "metadata": {},
   "source": [
    "## 🎯 Run ETL Pipeline\n",
    "\n",
    "Execute the `sales_etl` pipeline to process the data."
   ]
  },
  {
   "cell_type": "code",
   "execution_count": 4,
   "metadata": {},
   "outputs": [
    {
     "ename": "ValidationError",
     "evalue": "Expected `object`, got `null` - at `$.params`",
     "output_type": "error",
     "traceback": [
      "\u001b[31m---------------------------------------------------------------------------\u001b[39m",
      "\u001b[31mValidationError\u001b[39m                           Traceback (most recent call last)",
      "\u001b[36mCell\u001b[39m\u001b[36m \u001b[39m\u001b[32mIn[4]\u001b[39m\u001b[32m, line 1\u001b[39m\n\u001b[32m----> \u001b[39m\u001b[32m1\u001b[39m result = \u001b[43mpipeline_manager\u001b[49m\u001b[43m.\u001b[49m\u001b[43mrun\u001b[49m\u001b[43m(\u001b[49m\n\u001b[32m      2\u001b[39m \u001b[43m    \u001b[49m\u001b[33;43m\"\u001b[39;49m\u001b[33;43msales_etl\u001b[39;49m\u001b[33;43m\"\u001b[39;49m\u001b[43m,\u001b[49m\u001b[43m \u001b[49m\u001b[43mfinal_vars\u001b[49m\u001b[43m=\u001b[49m\u001b[43m[\u001b[49m\u001b[33;43m\"\u001b[39;49m\u001b[33;43mclean_data\u001b[39;49m\u001b[33;43m\"\u001b[39;49m\u001b[43m,\u001b[49m\u001b[43m \u001b[49m\u001b[33;43m\"\u001b[39;49m\u001b[33;43msales_summary\u001b[39;49m\u001b[33;43m\"\u001b[39;49m\u001b[43m,\u001b[49m\u001b[43m \u001b[49m\u001b[33;43m\"\u001b[39;49m\u001b[33;43mvalidation_report\u001b[39;49m\u001b[33;43m\"\u001b[39;49m\u001b[43m]\u001b[49m\n\u001b[32m      3\u001b[39m \u001b[43m)\u001b[49m\n\u001b[32m      5\u001b[39m clean_data = result[\u001b[33m\"\u001b[39m\u001b[33mclean_data\u001b[39m\u001b[33m\"\u001b[39m]\n\u001b[32m      6\u001b[39m sales_summary = result[\u001b[33m\"\u001b[39m\u001b[33msales_summary\u001b[39m\u001b[33m\"\u001b[39m]\n",
      "\u001b[36mFile \u001b[39m\u001b[32m~/coding/flowerpower/.worktree/code-simplification-analysis/src/flowerpower/pipeline/manager.py:431\u001b[39m, in \u001b[36mPipelineManager.run\u001b[39m\u001b[34m(self, name, run_config, **kwargs)\u001b[39m\n\u001b[32m    428\u001b[39m     \u001b[38;5;28mself\u001b[39m._executor._project_context = \u001b[38;5;28mself\u001b[39m._project_context\n\u001b[32m    430\u001b[39m \u001b[38;5;66;03m# Delegate to executor\u001b[39;00m\n\u001b[32m--> \u001b[39m\u001b[32m431\u001b[39m \u001b[38;5;28;01mreturn\u001b[39;00m \u001b[38;5;28;43mself\u001b[39;49m\u001b[43m.\u001b[49m\u001b[43m_executor\u001b[49m\u001b[43m.\u001b[49m\u001b[43mrun\u001b[49m\u001b[43m(\u001b[49m\u001b[43mname\u001b[49m\u001b[43m=\u001b[49m\u001b[43mname\u001b[49m\u001b[43m,\u001b[49m\u001b[43m \u001b[49m\u001b[43mrun_config\u001b[49m\u001b[43m=\u001b[49m\u001b[43mrun_config\u001b[49m\u001b[43m,\u001b[49m\u001b[43m \u001b[49m\u001b[43m*\u001b[49m\u001b[43m*\u001b[49m\u001b[43mkwargs\u001b[49m\u001b[43m)\u001b[49m\n",
      "\u001b[36mFile \u001b[39m\u001b[32m~/coding/flowerpower/.worktree/code-simplification-analysis/src/flowerpower/pipeline/executor.py:67\u001b[39m, in \u001b[36mPipelineExecutor.run\u001b[39m\u001b[34m(self, name, run_config, **kwargs)\u001b[39m\n\u001b[32m     48\u001b[39m \u001b[38;5;250m\u001b[39m\u001b[33;03m\"\"\"Execute a pipeline synchronously and return its results.\u001b[39;00m\n\u001b[32m     49\u001b[39m \u001b[33;03m\u001b[39;00m\n\u001b[32m     50\u001b[39m \u001b[33;03mThis is the main method for running pipelines directly. It handles configuration\u001b[39;00m\n\u001b[32m   (...)\u001b[39m\u001b[32m     64\u001b[39m \u001b[33;03m    Exception: If pipeline execution fails\u001b[39;00m\n\u001b[32m     65\u001b[39m \u001b[33;03m\"\"\"\u001b[39;00m\n\u001b[32m     66\u001b[39m \u001b[38;5;66;03m# Load pipeline configuration\u001b[39;00m\n\u001b[32m---> \u001b[39m\u001b[32m67\u001b[39m pipeline_config = \u001b[38;5;28;43mself\u001b[39;49m\u001b[43m.\u001b[49m\u001b[43m_config_manager\u001b[49m\u001b[43m.\u001b[49m\u001b[43mload_pipeline_config\u001b[49m\u001b[43m(\u001b[49m\u001b[43mname\u001b[49m\u001b[43m=\u001b[49m\u001b[43mname\u001b[49m\u001b[43m)\u001b[49m\n\u001b[32m     69\u001b[39m \u001b[38;5;66;03m# Initialize run_config with pipeline defaults if not provided\u001b[39;00m\n\u001b[32m     70\u001b[39m run_config = run_config \u001b[38;5;129;01mor\u001b[39;00m pipeline_config.run\n",
      "\u001b[36mFile \u001b[39m\u001b[32m~/coding/flowerpower/.worktree/code-simplification-analysis/src/flowerpower/pipeline/config_manager.py:120\u001b[39m, in \u001b[36mPipelineConfigManager.load_pipeline_config\u001b[39m\u001b[34m(self, name, reload)\u001b[39m\n\u001b[32m    115\u001b[39m     \u001b[38;5;28;01mraise\u001b[39;00m \u001b[38;5;167;01mFileNotFoundError\u001b[39;00m(\n\u001b[32m    116\u001b[39m         \u001b[33mf\u001b[39m\u001b[33m\"\u001b[39m\u001b[33mPipeline configuration not found. Searched for: \u001b[39m\u001b[38;5;132;01m{\u001b[39;00mpossible_paths\u001b[38;5;132;01m}\u001b[39;00m\u001b[33m\"\u001b[39m\n\u001b[32m    117\u001b[39m     )\n\u001b[32m    119\u001b[39m \u001b[38;5;66;03m# Load configuration\u001b[39;00m\n\u001b[32m--> \u001b[39m\u001b[32m120\u001b[39m \u001b[38;5;28mself\u001b[39m._pipeline_cfg = \u001b[43mPipelineConfig\u001b[49m\u001b[43m.\u001b[49m\u001b[43mfrom_yaml\u001b[49m\u001b[43m(\u001b[49m\n\u001b[32m    121\u001b[39m \u001b[43m    \u001b[49m\u001b[43mname\u001b[49m\u001b[43m=\u001b[49m\u001b[43mname\u001b[49m\u001b[43m,\u001b[49m\n\u001b[32m    122\u001b[39m \u001b[43m    \u001b[49m\u001b[43mpath\u001b[49m\u001b[43m=\u001b[49m\u001b[43mcfg_path\u001b[49m\u001b[43m,\u001b[49m\n\u001b[32m    123\u001b[39m \u001b[43m    \u001b[49m\u001b[43mfs\u001b[49m\u001b[43m=\u001b[49m\u001b[43mfs\u001b[49m\u001b[43m,\u001b[49m\n\u001b[32m    124\u001b[39m \u001b[43m\u001b[49m\u001b[43m)\u001b[49m\n\u001b[32m    126\u001b[39m \u001b[38;5;66;03m# Update current pipeline name\u001b[39;00m\n\u001b[32m    127\u001b[39m \u001b[38;5;28mself\u001b[39m._current_pipeline_name = name\n",
      "\u001b[36mFile \u001b[39m\u001b[32m~/coding/flowerpower/.worktree/code-simplification-analysis/src/flowerpower/cfg/pipeline/__init__.py:85\u001b[39m, in \u001b[36mPipelineConfig.from_yaml\u001b[39m\u001b[34m(cls, name, path, fs)\u001b[39m\n\u001b[32m     83\u001b[39m \u001b[38;5;28;01mwith\u001b[39;00m fs.open(path) \u001b[38;5;28;01mas\u001b[39;00m f:\n\u001b[32m     84\u001b[39m     data = yaml.safe_load(f)\n\u001b[32m---> \u001b[39m\u001b[32m85\u001b[39m     \u001b[38;5;28;01mreturn\u001b[39;00m \u001b[38;5;28;43mcls\u001b[39;49m\u001b[43m.\u001b[49m\u001b[43mfrom_dict\u001b[49m\u001b[43m(\u001b[49m\u001b[43mname\u001b[49m\u001b[43m=\u001b[49m\u001b[43mname\u001b[49m\u001b[43m,\u001b[49m\u001b[43m \u001b[49m\u001b[43mdata\u001b[49m\u001b[43m=\u001b[49m\u001b[43mdata\u001b[49m\u001b[43m)\u001b[49m\n",
      "\u001b[36mFile \u001b[39m\u001b[32m~/coding/flowerpower/.worktree/code-simplification-analysis/src/flowerpower/cfg/pipeline/__init__.py:76\u001b[39m, in \u001b[36mPipelineConfig.from_dict\u001b[39m\u001b[34m(cls, name, data)\u001b[39m\n\u001b[32m     73\u001b[39m \u001b[38;5;129m@classmethod\u001b[39m\n\u001b[32m     74\u001b[39m \u001b[38;5;28;01mdef\u001b[39;00m\u001b[38;5;250m \u001b[39m\u001b[34mfrom_dict\u001b[39m(\u001b[38;5;28mcls\u001b[39m, name: \u001b[38;5;28mstr\u001b[39m, data: \u001b[38;5;28mdict\u001b[39m | Munch):\n\u001b[32m     75\u001b[39m     data.update({\u001b[33m\"\u001b[39m\u001b[33mname\u001b[39m\u001b[33m\"\u001b[39m: name})\n\u001b[32m---> \u001b[39m\u001b[32m76\u001b[39m     instance = \u001b[43mmsgspec\u001b[49m\u001b[43m.\u001b[49m\u001b[43mconvert\u001b[49m\u001b[43m(\u001b[49m\u001b[43mdata\u001b[49m\u001b[43m,\u001b[49m\u001b[43m \u001b[49m\u001b[38;5;28;43mcls\u001b[39;49m\u001b[43m)\u001b[49m\n\u001b[32m     77\u001b[39m     \u001b[38;5;66;03m# Manually call __post_init__ since msgspec.convert doesn't call it\u001b[39;00m\n\u001b[32m     78\u001b[39m     instance.__post_init__()\n",
      "\u001b[31mValidationError\u001b[39m: Expected `object`, got `null` - at `$.params`"
     ]
    }
   ],
   "source": [
    "result = pipeline_manager.run(\n",
    "    \"sales_etl\", final_vars=[\"clean_data\", \"sales_summary\", \"validation_report\"]\n",
    ")\n",
    "\n",
    "clean_data = result[\"clean_data\"]\n",
    "sales_summary = result[\"sales_summary\"]\n",
    "validation_report = result[\"validation_report\"]\n",
    "\n",
    "print(\"✅ Pipeline execution completed!\")"
   ]
  },
  {
   "cell_type": "markdown",
   "metadata": {},
   "source": [
    "### 🔍 Validation Report\n",
    "\n",
    "Check the data validation results."
   ]
  },
  {
   "cell_type": "code",
   "execution_count": null,
   "metadata": {},
   "outputs": [],
   "source": [
    "print(f\"Data is valid: {validation_report['is_valid']}\")\n",
    "print(f\"Price violations: {validation_report['price_violations']}\")\n",
    "if validation_report[\"missing_values\"]:\n",
    "    print(f\"Missing values: {validation_report['missing_values']}\")"
   ]
  },
  {
   "cell_type": "markdown",
   "metadata": {},
   "source": [
    "### 🧹 Clean Data\n",
    "\n",
    "Inspect the cleaned data."
   ]
  },
  {
   "cell_type": "code",
   "execution_count": null,
   "metadata": {},
   "outputs": [],
   "source": [
    "print(f\"Clean data shape: {clean_data.shape}\")\n",
    "print(f\"Missing values after cleaning: {clean_data.isnull().sum().sum()}\")\n",
    "print(f\"Total revenue: ${clean_data['total_sales'].sum():,.2f}\")\n",
    "clean_data.head()"
   ]
  },
  {
   "cell_type": "markdown",
   "metadata": {},
   "source": [
    "### 📈 Sales Summary\n",
    "\n",
    "Review the aggregated sales summary."
   ]
  },
  {
   "cell_type": "code",
   "execution_count": null,
   "metadata": {},
   "outputs": [],
   "source": [
    "print(f\"Sales summary shape: {sales_summary.shape}\")\n",
    "sales_summary.head(10)"
   ]
  },
  {
   "cell_type": "markdown",
   "metadata": {},
   "source": [
    "## 📊 Data Visualization\n",
    "\n",
    "Visualize the processed data to gain insights."
   ]
  },
  {
   "cell_type": "code",
   "execution_count": null,
   "metadata": {},
   "outputs": [],
   "source": [
    "fig, axes = plt.subplots(2, 2, figsize=(15, 12))\n",
    "fig.suptitle(\"Sales Data Analysis\", fontsize=16)\n",
    "\n",
    "# Revenue by Product\n",
    "product_revenue = (\n",
    "    sales_summary.groupby(\"product\")[\"total_sales\"].sum().sort_values(ascending=False)\n",
    ")\n",
    "axes[0, 0].bar(product_revenue.index, product_revenue.values)\n",
    "axes[0, 0].set_title(\"Revenue by Product\")\n",
    "axes[0, 0].tick_params(axis=\"x\", rotation=45)\n",
    "\n",
    "# Sale Amount Distribution\n",
    "axes[0, 1].hist(clean_data[\"total_sales\"], bins=30, alpha=0.7)\n",
    "axes[0, 1].set_title(\"Sale Amount Distribution\")\n",
    "\n",
    "# Customer Spending\n",
    "customer_spending = (\n",
    "    sales_summary.groupby(\"customer\")[\"total_sales\"].sum().sort_values(ascending=False)\n",
    ")\n",
    "axes[1, 0].bar(customer_spending.index, customer_spending.values)\n",
    "axes[1, 0].set_title(\"Customer Total Spending\")\n",
    "\n",
    "# Quantity vs Revenue\n",
    "axes[1, 1].scatter(\n",
    "    sales_summary[\"total_quantity\"], sales_summary[\"total_sales\"], alpha=0.6\n",
    ")\n",
    "axes[1, 1].set_title(\"Quantity vs Revenue\")\n",
    "\n",
    "plt.tight_layout()\n",
    "plt.show()"
   ]
  },
  {
   "cell_type": "markdown",
   "metadata": {},
   "source": [
    "## ⚙️ Pipeline Configuration Experiments\n",
    "\n",
    "Test how different configurations affect the output. Here, we'll test a stricter price validation."
   ]
  },
  {
   "cell_type": "code",
   "execution_count": null,
   "metadata": {},
   "outputs": [],
   "source": [
    "strict_result = pipeline_manager.run(\n",
    "    \"sales_etl\",\n",
    "    inputs={\"min_price\": 5.0, \"max_price\": 500.0},\n",
    "    final_vars=[\"validation_report\"],\n",
    ")\n",
    "strict_validation = strict_result[\"validation_report\"]\n",
    "\n",
    "print(f\"Original price violations: {validation_report['price_violations']}\")\n",
    "print(f\"Strict price violations: {strict_validation['price_violations']}\")"
   ]
  },
  {
   "cell_type": "markdown",
   "metadata": {},
   "source": [
    "## 💾 Export and Save Results\n",
    "\n",
    "Save the cleaned data, sales summary, and validation report."
   ]
  },
  {
   "cell_type": "code",
   "execution_count": null,
   "metadata": {},
   "outputs": [],
   "source": [
    "output_dir = Path(\"notebook_outputs\")\n",
    "output_dir.mkdir(exist_ok=True)\n",
    "\n",
    "clean_data.to_csv(output_dir / \"cleaned_sales_data.csv\", index=False)\n",
    "sales_summary.to_csv(output_dir / \"sales_summary.csv\", index=False)\n",
    "with open(output_dir / \"validation_report.json\", \"w\") as f:\n",
    "    json.dump(validation_report, f, indent=2, default=str)\n",
    "\n",
    "print(f\"✅ Outputs saved to: {output_dir.absolute()}\")"
   ]
  },
  {
   "cell_type": "markdown",
   "metadata": {},
   "source": [
    "## 🔗 Learn More\n",
    "\n",
    "To run the script version of this pipeline:\n",
    "\n",
    "```bash\n",
    "uv run scripts/run_example.py sync\n",
    "```"
   ]
  }
 ],
 "metadata": {
  "kernelspec": {
   "display_name": "flowerpower (3.12.8)",
   "language": "python",
   "name": "python3"
  },
  "language_info": {
   "codemirror_mode": {
    "name": "ipython",
    "version": 3
   },
   "file_extension": ".py",
   "mimetype": "text/x-python",
   "name": "python",
   "nbconvert_exporter": "python",
   "pygments_lexer": "ipython3",
   "version": "3.12.8"
  }
 },
 "nbformat": 4,
 "nbformat_minor": 2
}
